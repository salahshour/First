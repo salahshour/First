{
  "cells": [
    {
      "cell_type": "markdown",
      "metadata": {
        "id": "view-in-github",
        "colab_type": "text"
      },
      "source": [
        "<a href=\"https://colab.research.google.com/github/salahshour/First/blob/main/Level_Test_Salahshour.ipynb\" target=\"_parent\"><img src=\"https://colab.research.google.com/assets/colab-badge.svg\" alt=\"Open In Colab\"/></a>"
      ]
    },
    {
      "cell_type": "markdown",
      "metadata": {
        "id": "vXf4Ahd-I8Mo"
      },
      "source": [
        "![alt text](https://apac.ee.kntu.ac.ir/wp-content/uploads/2024/09/apacgroup-logo.svg)"
      ]
    },
    {
      "cell_type": "markdown",
      "metadata": {
        "id": "jMrkY7a0I8Mr"
      },
      "source": [
        "# Level Test\n",
        "### Note: people who can answer this test **do not** need to attend first 50 hour of Python course"
      ]
    },
    {
      "cell_type": "markdown",
      "metadata": {
        "id": "ZUM5AlpgI8Mr"
      },
      "source": [
        "The questions will be given and you sould code in the box below"
      ]
    },
    {
      "cell_type": "markdown",
      "metadata": {
        "id": "JsYkx094I8Ms"
      },
      "source": [
        "# Q1 :\n",
        "calaulate the mod of three digit prime number(choose on your own) to 2 and proof that it is True\n",
        "\n"
      ]
    },
    {
      "cell_type": "code",
      "execution_count": 4,
      "metadata": {
        "vscode": {
          "languageId": "plaintext"
        },
        "id": "Dy83O8YwI8Mt",
        "colab": {
          "base_uri": "https://localhost:8080/"
        },
        "outputId": "05724d7a-45fd-407c-ed6f-1c2772109556"
      },
      "outputs": [
        {
          "output_type": "stream",
          "name": "stdout",
          "text": [
            "111 mod 2 = 1\n",
            "✅ The selected number is odd, so mod 2 is equal to 1.\n"
          ]
        }
      ],
      "source": [
        "# Select a three-digit prime number\n",
        "prime_number = 111\n",
        "\n",
        "# Calculate modulo 2\n",
        "mod_result = prime_number % 2\n",
        "\n",
        "# Display the result\n",
        "print(f\"{prime_number} mod 2 = {mod_result}\")\n",
        "\n",
        "# Proof that the number is odd\n",
        "if mod_result == 1:\n",
        "    print(\"✅ The selected number is odd, so mod 2 is equal to 1.\")\n",
        "else:\n",
        "    print(\"❌ The result is incorrect, please check the number.\")\n"
      ]
    },
    {
      "cell_type": "markdown",
      "metadata": {
        "id": "EQy43YV_I8Mt"
      },
      "source": [
        "# Q2:\n",
        "code to get two string first print the type of input and then put them together(give it your name and last name)\n"
      ]
    },
    {
      "cell_type": "code",
      "execution_count": 5,
      "metadata": {
        "vscode": {
          "languageId": "plaintext"
        },
        "id": "7prRehRiI8Mu",
        "colab": {
          "base_uri": "https://localhost:8080/"
        },
        "outputId": "b204f438-a6fa-4e83-ea64-60598f54e6f1"
      },
      "outputs": [
        {
          "output_type": "stream",
          "name": "stdout",
          "text": [
            "Type of first_name: <class 'str'>\n",
            "Type of last_name: <class 'str'>\n",
            "Full name: Reza Salahshour\n"
          ]
        }
      ],
      "source": [
        "# Get two strings from the user\n",
        "first_name = \"Reza\"\n",
        "last_name = \"Salahshour\"\n",
        "\n",
        "# Print the type of each input\n",
        "print(\"Type of first_name:\", type(first_name))\n",
        "print(\"Type of last_name:\", type(last_name))\n",
        "\n",
        "# Concatenate the strings\n",
        "full_name = first_name + \" \" + last_name\n",
        "\n",
        "# Print the result\n",
        "print(\"Full name:\", full_name)\n"
      ]
    },
    {
      "cell_type": "markdown",
      "metadata": {
        "id": "zG5MsLscI8Mu"
      },
      "source": [
        "# Q3:\n",
        "create a list with 5 member and change the the three one to Iran"
      ]
    },
    {
      "cell_type": "code",
      "execution_count": 6,
      "metadata": {
        "vscode": {
          "languageId": "plaintext"
        },
        "id": "3h3XKfBwI8Mu",
        "colab": {
          "base_uri": "https://localhost:8080/"
        },
        "outputId": "e2aa707e-17ef-4418-ab20-7c19dbf99d68"
      },
      "outputs": [
        {
          "output_type": "stream",
          "name": "stdout",
          "text": [
            "['USA', 'Canada', 'Iran', 'France', 'Japan']\n"
          ]
        }
      ],
      "source": [
        "# Create a list with 5 members\n",
        "my_list = [\"USA\", \"Canada\", \"Germany\", \"France\", \"Japan\"]\n",
        "\n",
        "# Change the third element (index 2) to \"Iran\"\n",
        "my_list[2] = \"Iran\"\n",
        "\n",
        "# Print the updated list\n",
        "print(my_list)\n"
      ]
    },
    {
      "cell_type": "markdown",
      "metadata": {
        "id": "GGcRqaXiI8Mv"
      },
      "source": [
        "# Q4:\n",
        "create a dictionary with 5 member assign a b c d e to 1 to 5 and print Dictionary items"
      ]
    },
    {
      "cell_type": "code",
      "execution_count": null,
      "metadata": {
        "vscode": {
          "languageId": "plaintext"
        },
        "id": "kCpmQ00VI8Mv"
      },
      "outputs": [],
      "source": []
    },
    {
      "cell_type": "markdown",
      "metadata": {
        "id": "3FNm5wPTI8Mv"
      },
      "source": [
        "# Q5:\n",
        "Open an existing file in your computer and print last line(you can make a txt file then do it)"
      ]
    },
    {
      "cell_type": "code",
      "execution_count": 7,
      "metadata": {
        "vscode": {
          "languageId": "plaintext"
        },
        "id": "zFdfsuMNI8Mw",
        "colab": {
          "base_uri": "https://localhost:8080/"
        },
        "outputId": "a6794004-7483-4ede-ed4b-5f37d130e12a"
      },
      "outputs": [
        {
          "output_type": "stream",
          "name": "stdout",
          "text": [
            "Last line of the file: Last line\n"
          ]
        }
      ],
      "source": [
        "# Step 1: Create a sample text file and write multiple lines\n",
        "with open(\"sample.txt\", \"w\") as file:\n",
        "    file.write(\"First line\\n\")\n",
        "    file.write(\"Second line\\n\")\n",
        "    file.write(\"Third line\\n\")\n",
        "    file.write(\"Fourth line\\n\")\n",
        "    file.write(\"Last line\\n\")\n",
        "\n",
        "# Step 2: Open the file again and read the last line\n",
        "with open(\"sample.txt\", \"r\") as file:\n",
        "    lines = file.readlines()\n",
        "    last_line = lines[-1]  # Get the last line\n",
        "\n",
        "# Step 3: Print the last line\n",
        "print(\"Last line of the file:\", last_line.strip())\n"
      ]
    },
    {
      "cell_type": "markdown",
      "metadata": {
        "id": "nUmnzaqTI8Mw"
      },
      "source": [
        "# Q6:\n",
        "Check 255 is greater than 188 and 255 is smaller than 189 in one line"
      ]
    },
    {
      "cell_type": "code",
      "execution_count": 8,
      "metadata": {
        "vscode": {
          "languageId": "plaintext"
        },
        "id": "Km-N_laTI8Mw",
        "colab": {
          "base_uri": "https://localhost:8080/"
        },
        "outputId": "54841e81-62ae-477e-9085-6d5a7cb0577d"
      },
      "outputs": [
        {
          "output_type": "stream",
          "name": "stdout",
          "text": [
            "False\n"
          ]
        }
      ],
      "source": [
        "print(188 < 255 < 189)\n"
      ]
    },
    {
      "cell_type": "markdown",
      "metadata": {
        "id": "NJUiNEqvI8Mw"
      },
      "source": [
        "# Q7:\n",
        "assign a your name to variable name person check it among your friends name if its true print 'HOORA'"
      ]
    },
    {
      "cell_type": "code",
      "execution_count": 9,
      "metadata": {
        "vscode": {
          "languageId": "plaintext"
        },
        "id": "38EGmymWI8Mx",
        "colab": {
          "base_uri": "https://localhost:8080/"
        },
        "outputId": "e688a8cb-f6ba-448a-8668-f621d1711177"
      },
      "outputs": [
        {
          "output_type": "stream",
          "name": "stdout",
          "text": [
            "HOORA\n"
          ]
        }
      ],
      "source": [
        "# Assign a name to the variable\n",
        "person = \"Reza\"\n",
        "\n",
        "# List of friends\n",
        "friends = [\"Amir\", \"ali\", \"Reza\", \"Hamid\"]\n",
        "\n",
        "# Check if the person is among the friends\n",
        "if person in friends:\n",
        "    print(\"HOORA\")\n"
      ]
    },
    {
      "cell_type": "markdown",
      "metadata": {
        "id": "ffJJFXC2I8Mx"
      },
      "source": [
        "# Q8:\n",
        "create a list 1 to 10 then check for even numbers then print all using for loops"
      ]
    },
    {
      "cell_type": "code",
      "execution_count": 10,
      "metadata": {
        "vscode": {
          "languageId": "plaintext"
        },
        "id": "8VIyzyxwI8Mx",
        "colab": {
          "base_uri": "https://localhost:8080/"
        },
        "outputId": "9c1c51a8-4a7e-4cca-e4d4-9e888f63797c"
      },
      "outputs": [
        {
          "output_type": "stream",
          "name": "stdout",
          "text": [
            "2\n",
            "4\n",
            "6\n",
            "8\n",
            "10\n"
          ]
        }
      ],
      "source": [
        "# Create a list from 1 to 10\n",
        "numbers = list(range(1, 11))\n",
        "\n",
        "# Loop through the list and check for even numbers\n",
        "for num in numbers:\n",
        "    if num % 2 == 0:\n",
        "        print(num)\n"
      ]
    },
    {
      "cell_type": "markdown",
      "metadata": {
        "id": "1cD7Vsh6I8Mx"
      },
      "source": [
        "# Q9:\n",
        "consider x is 12 while x is between 10 to 15 print good else continue"
      ]
    },
    {
      "cell_type": "code",
      "execution_count": 11,
      "metadata": {
        "vscode": {
          "languageId": "plaintext"
        },
        "id": "dGiv084UI8Mx",
        "colab": {
          "base_uri": "https://localhost:8080/"
        },
        "outputId": "6bccf581-ad62-4493-babe-8aed58450379"
      },
      "outputs": [
        {
          "output_type": "stream",
          "name": "stdout",
          "text": [
            "good\n"
          ]
        }
      ],
      "source": [
        "x = 12\n",
        "\n",
        "if 10 <= x <= 15:\n",
        "    print(\"good\")\n",
        "else:\n",
        "    pass  # continue doing nothing\n"
      ]
    },
    {
      "cell_type": "markdown",
      "metadata": {
        "id": "XwB6HhZAI8My"
      },
      "source": [
        "# Q10:\n",
        "make a list from 0 to 10000 with step of 100 using \"range\" shuffle this list and pick index 10"
      ]
    },
    {
      "cell_type": "code",
      "execution_count": 12,
      "metadata": {
        "vscode": {
          "languageId": "plaintext"
        },
        "id": "vcHXwPhTI8My",
        "colab": {
          "base_uri": "https://localhost:8080/"
        },
        "outputId": "17160aac-b32d-4bc6-e94d-f9cdcde7d8f4"
      },
      "outputs": [
        {
          "output_type": "stream",
          "name": "stdout",
          "text": [
            "5800\n"
          ]
        }
      ],
      "source": [
        "import random\n",
        "\n",
        "# Create list from 0 to 10000 with step 100\n",
        "numbers = list(range(0, 10001, 100))\n",
        "\n",
        "# Shuffle the list\n",
        "random.shuffle(numbers)\n",
        "\n",
        "# Print the element at index 10\n",
        "print(numbers[10])\n"
      ]
    },
    {
      "cell_type": "markdown",
      "metadata": {
        "id": "g6XdMJ6cI8My"
      },
      "source": [
        "# Q11:\n",
        "Consider list of 1 to 5 append 6 in it and count even number in it using a function"
      ]
    },
    {
      "cell_type": "code",
      "execution_count": 13,
      "metadata": {
        "vscode": {
          "languageId": "plaintext"
        },
        "id": "EijfLgBMI8My",
        "colab": {
          "base_uri": "https://localhost:8080/"
        },
        "outputId": "413cdb8a-07d7-4e95-9bb8-9c21d3108985"
      },
      "outputs": [
        {
          "output_type": "stream",
          "name": "stdout",
          "text": [
            "Number of even numbers: 3\n"
          ]
        }
      ],
      "source": [
        "# Create list from 1 to 5\n",
        "numbers = list(range(1, 6))\n",
        "\n",
        "# Append 6 to the list\n",
        "numbers.append(6)\n",
        "\n",
        "# Define a function to count even numbers in a list\n",
        "def count_even(nums):\n",
        "    count = 0\n",
        "    for num in nums:\n",
        "        if num % 2 == 0:\n",
        "            count += 1\n",
        "    return count\n",
        "\n",
        "# Call the function and print the result\n",
        "even_count = count_even(numbers)\n",
        "print(\"Number of even numbers:\", even_count)\n"
      ]
    },
    {
      "cell_type": "markdown",
      "metadata": {
        "id": "b-7nCuYOI8Mz"
      },
      "source": [
        "# Q12:\n",
        "write a function that get string and uppercase the first letter if it's capital print it's True"
      ]
    },
    {
      "cell_type": "code",
      "execution_count": 14,
      "metadata": {
        "vscode": {
          "languageId": "plaintext"
        },
        "id": "ejmGFth3I8Mz",
        "colab": {
          "base_uri": "https://localhost:8080/"
        },
        "outputId": "e61693ef-9b94-44c8-8f00-cb162406b459"
      },
      "outputs": [
        {
          "output_type": "stream",
          "name": "stdout",
          "text": [
            "Hello\n",
            "True\n"
          ]
        }
      ],
      "source": [
        "def uppercase_first_letter(s):\n",
        "    # Check if first letter is already uppercase\n",
        "    if s and s[0].isupper():\n",
        "        print(True)\n",
        "    else:\n",
        "        # Uppercase the first letter and return the modified string\n",
        "        s = s.capitalize()\n",
        "    return s\n",
        "\n",
        "# Example usage:\n",
        "result = uppercase_first_letter(\"hello\")\n",
        "print(result)  # Output: Hello\n",
        "\n",
        "result = uppercase_first_letter(\"World\")\n",
        "# This will print True\n"
      ]
    },
    {
      "cell_type": "code",
      "source": [],
      "metadata": {
        "id": "DSiDIScjMEZZ"
      },
      "execution_count": null,
      "outputs": []
    },
    {
      "cell_type": "markdown",
      "source": [
        "# BA TASHAKOR- SALAHSHOUR"
      ],
      "metadata": {
        "id": "uLoAgOVJMYsi"
      }
    }
  ],
  "metadata": {
    "language_info": {
      "name": "python"
    },
    "colab": {
      "provenance": [],
      "toc_visible": true,
      "include_colab_link": true
    },
    "kernelspec": {
      "name": "python3",
      "display_name": "Python 3"
    }
  },
  "nbformat": 4,
  "nbformat_minor": 0
}